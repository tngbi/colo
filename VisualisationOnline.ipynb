{
  "nbformat": 4,
  "nbformat_minor": 0,
  "metadata": {
    "colab": {
      "private_outputs": true,
      "provenance": [],
      "authorship_tag": "ABX9TyOIQhzBWMevkMY/4FBp2LfU",
      "include_colab_link": true
    },
    "kernelspec": {
      "name": "python3",
      "display_name": "Python 3"
    },
    "language_info": {
      "name": "python"
    }
  },
  "cells": [
    {
      "cell_type": "markdown",
      "metadata": {
        "id": "view-in-github",
        "colab_type": "text"
      },
      "source": [
        "<a href=\"https://colab.research.google.com/github/tngbi/colo/blob/main/VisualisationOnline.ipynb\" target=\"_parent\"><img src=\"https://colab.research.google.com/assets/colab-badge.svg\" alt=\"Open In Colab\"/></a>"
      ]
    },
    {
      "cell_type": "code",
      "execution_count": null,
      "metadata": {
        "id": "6cqb5MwxKusa",
        "cellView": "form"
      },
      "outputs": [],
      "source": [
        "# @title\n",
        "import numpy as np\n",
        "import pandas as pd\n",
        "import matplotlib.pyplot as plt\n",
        "import seaborn as sns\n",
        "\n",
        "# Generate sample data\n",
        "np.random.seed(42)\n",
        "data = pd.DataFrame({\n",
        "    'Category': np.random.choice(['A', 'B', 'C'], 100),\n",
        "    'Value': np.random.randn(100)\n",
        "})\n",
        "\n",
        "# Set the style for seaborn\n",
        "sns.set(style=\"whitegrid\")\n",
        "\n",
        "# 1. Bar Plot\n",
        "plt.figure(figsize=(10, 6))\n",
        "sns.barplot(x='Category', y='Value', data=data)\n",
        "plt.title('Bar Plot')\n",
        "plt.show()\n"
      ]
    },
    {
      "cell_type": "code",
      "source": [
        "# @title\n",
        "import numpy as np\n",
        "import pandas as pd\n",
        "import matplotlib.pyplot as plt\n",
        "import seaborn as sns\n",
        "\n",
        "# Generate sample data\n",
        "np.random.seed(42)\n",
        "data = pd.DataFrame({\n",
        "    'Category': np.random.choice(['A', 'B', 'C'], 100),\n",
        "    'Value': np.random.randn(100)\n",
        "})\n",
        "\n",
        "# Set the style for seaborn\n",
        "sns.set(style=\"whitegrid\")\n",
        "\n",
        "\n",
        "# 2. Histogram\n",
        "plt.figure(figsize=(10, 6))\n",
        "sns.histplot(data['Value'], bins=20, kde=True, color='skyblue')\n",
        "plt.title('Histogram')\n",
        "plt.show()\n"
      ],
      "metadata": {
        "id": "DHp-53zNOlQg",
        "cellView": "form"
      },
      "execution_count": null,
      "outputs": []
    },
    {
      "cell_type": "code",
      "source": [
        "# @title\n",
        "import numpy as np\n",
        "import pandas as pd\n",
        "import matplotlib.pyplot as plt\n",
        "import seaborn as sns\n",
        "\n",
        "# Generate sample data\n",
        "np.random.seed(42)\n",
        "data = pd.DataFrame({\n",
        "    'Category': np.random.choice(['A', 'B', 'C'], 100),\n",
        "    'Value': np.random.randn(100)\n",
        "})\n",
        "\n",
        "# Set the style for seaborn\n",
        "sns.set(style=\"whitegrid\")\n",
        "\n",
        "\n",
        "# 5. Pair Plot (for multiple variables)\n",
        "iris = sns.load_dataset('iris')\n",
        "sns.pairplot(iris, hue='species', height=2.5)\n",
        "plt.suptitle('Pair Plot')\n",
        "plt.show()\n"
      ],
      "metadata": {
        "id": "O0O8JpOvOqXI",
        "cellView": "form"
      },
      "execution_count": null,
      "outputs": []
    }
  ]
}